{
 "cells": [
  {
   "cell_type": "code",
   "execution_count": 1,
   "metadata": {},
   "outputs": [],
   "source": [
    "import pandas as pd\n",
    "import requests\n",
    "import ast\n",
    "import numpy as np"
   ]
  },
  {
   "cell_type": "markdown",
   "metadata": {},
   "source": [
    "More info on requests library can be found [here](http://docs.python-requests.org/en/master/user/quickstart/)"
   ]
  },
  {
   "cell_type": "code",
   "execution_count": 2,
   "metadata": {},
   "outputs": [],
   "source": [
    "# request params\n",
    "url = 'https://data.austintexas.gov/resource/x9yh-78fz.json'\n",
    "# query params\n",
    "payload = {'fiscal_year_issued': '2018',\n",
    "           'contractor_zip': '78749',\n",
    "           '$select': 'condominium, total_job_valuation,\\\n",
    "               longitude, latitude, permittype, total_new_add_sqft, \\\n",
    "               total_existing_bldg_sqft'}\n",
    "# API token\n",
    "headers = {'X-App-Token': 'HLR3sDnaPUVVakzmZzKPpFMkJ'} "
   ]
  },
  {
   "cell_type": "code",
   "execution_count": 3,
   "metadata": {},
   "outputs": [],
   "source": [
    "res = requests.get(url, params=payload, headers=headers)"
   ]
  },
  {
   "cell_type": "code",
   "execution_count": 4,
   "metadata": {},
   "outputs": [
    {
     "name": "stdout",
     "output_type": "stream",
     "text": [
      "200\n"
     ]
    },
    {
     "data": {
      "text/plain": [
       "True"
      ]
     },
     "execution_count": 4,
     "metadata": {},
     "output_type": "execute_result"
    }
   ],
   "source": [
    "print(res.status_code)\n",
    "res.status_code == requests.codes.ok"
   ]
  },
  {
   "cell_type": "code",
   "execution_count": 8,
   "metadata": {},
   "outputs": [
    {
     "data": {
      "text/plain": [
       "['condominium',\n",
       " 'latitude',\n",
       " 'longitude',\n",
       " 'permittype',\n",
       " 'total_existing_bldg_sqft',\n",
       " 'total_job_valuation',\n",
       " 'total_new_add_sqft']"
      ]
     },
     "execution_count": 8,
     "metadata": {},
     "output_type": "execute_result"
    }
   ],
   "source": [
    "# let's take a look at the header information\n",
    "ast.literal_eval(res.headers['X-SODA2-Fields'])"
   ]
  },
  {
   "cell_type": "code",
   "execution_count": 5,
   "metadata": {},
   "outputs": [],
   "source": [
    "def get_unique_keys(list_of_dicts):\n",
    "    '''\n",
    "    return unique keys from within a list of dicts\n",
    "    '''\n",
    "    json_keys = []\n",
    "    for row in list_of_dicts:\n",
    "        for k in row.keys():\n",
    "            json_keys.append(k)\n",
    "    return set(json_keys)"
   ]
  },
  {
   "cell_type": "code",
   "execution_count": 6,
   "metadata": {},
   "outputs": [],
   "source": [
    "# create a template dictionary\n",
    "# consisting of all unique keys\n",
    "# within input dataset\n",
    "df_dict = {}\n",
    "for key in get_unique_keys(res.json()):\n",
    "    df_dict[key] = []\n",
    "    \n",
    "# fill in the dictionary with\n",
    "# values from the API call\n",
    "# making sure to input nulls\n",
    "# where needed\n",
    "for row in res.json():\n",
    "    for k in list(df_dict.keys()):\n",
    "        try:\n",
    "            df_dict[k].append(row[k])\n",
    "            continue\n",
    "        except KeyError:\n",
    "            df_dict[k].append(np.nan)"
   ]
  },
  {
   "cell_type": "code",
   "execution_count": 9,
   "metadata": {},
   "outputs": [],
   "source": [
    "# cram the dictionary into a dataframe\n",
    "df = pd.DataFrame.from_dict(df_dict)"
   ]
  },
  {
   "cell_type": "code",
   "execution_count": 10,
   "metadata": {},
   "outputs": [
    {
     "data": {
      "text/html": [
       "<div>\n",
       "<style scoped>\n",
       "    .dataframe tbody tr th:only-of-type {\n",
       "        vertical-align: middle;\n",
       "    }\n",
       "\n",
       "    .dataframe tbody tr th {\n",
       "        vertical-align: top;\n",
       "    }\n",
       "\n",
       "    .dataframe thead th {\n",
       "        text-align: right;\n",
       "    }\n",
       "</style>\n",
       "<table border=\"1\" class=\"dataframe\">\n",
       "  <thead>\n",
       "    <tr style=\"text-align: right;\">\n",
       "      <th></th>\n",
       "      <th>condominium</th>\n",
       "      <th>latitude</th>\n",
       "      <th>longitude</th>\n",
       "      <th>permittype</th>\n",
       "      <th>total_existing_bldg_sqft</th>\n",
       "      <th>total_job_valuation</th>\n",
       "      <th>total_new_add_sqft</th>\n",
       "    </tr>\n",
       "  </thead>\n",
       "  <tbody>\n",
       "    <tr>\n",
       "      <th>0</th>\n",
       "      <td>NaN</td>\n",
       "      <td>30.22768623</td>\n",
       "      <td>-97.78692854</td>\n",
       "      <td>DS</td>\n",
       "      <td>NaN</td>\n",
       "      <td>NaN</td>\n",
       "      <td>NaN</td>\n",
       "    </tr>\n",
       "    <tr>\n",
       "      <th>1</th>\n",
       "      <td>No</td>\n",
       "      <td>30.16809048</td>\n",
       "      <td>-97.9131181</td>\n",
       "      <td>EP</td>\n",
       "      <td>NaN</td>\n",
       "      <td>NaN</td>\n",
       "      <td>1536</td>\n",
       "    </tr>\n",
       "  </tbody>\n",
       "</table>\n",
       "</div>"
      ],
      "text/plain": [
       "  condominium     latitude     longitude permittype total_existing_bldg_sqft  \\\n",
       "0         NaN  30.22768623  -97.78692854         DS                      NaN   \n",
       "1          No  30.16809048   -97.9131181         EP                      NaN   \n",
       "\n",
       "  total_job_valuation total_new_add_sqft  \n",
       "0                 NaN                NaN  \n",
       "1                 NaN               1536  "
      ]
     },
     "execution_count": 10,
     "metadata": {},
     "output_type": "execute_result"
    }
   ],
   "source": [
    "df.head(2)"
   ]
  }
 ],
 "metadata": {
  "kernelspec": {
   "display_name": "Python 3",
   "language": "python",
   "name": "python3"
  },
  "language_info": {
   "codemirror_mode": {
    "name": "ipython",
    "version": 3
   },
   "file_extension": ".py",
   "mimetype": "text/x-python",
   "name": "python",
   "nbconvert_exporter": "python",
   "pygments_lexer": "ipython3",
   "version": "3.6.3"
  }
 },
 "nbformat": 4,
 "nbformat_minor": 2
}
